{
 "cells": [
  {
   "cell_type": "code",
   "execution_count": 2,
   "id": "28453c8a",
   "metadata": {},
   "outputs": [],
   "source": [
    "import numpy as np\n",
    "import matplotlib.pyplot as plt\n",
    "import scipy\n",
    "from astropy import units as u"
   ]
  },
  {
   "cell_type": "code",
   "execution_count": 3,
   "id": "ced34e96",
   "metadata": {},
   "outputs": [],
   "source": [
    "class star:\n",
    "    def __init__(self,a,e,p,m1,m2):\n",
    "        self.a=a\n",
    "        self.e=e\n",
    "        self.p=(p*u.year).to(u.second).value\n",
    "        self.m1=(m1*u.M_sun).value\n",
    "        self.m2=(m2*u.M_sun).value\n",
    "        self.a1=(m2/(m1+m2))*self.a\n",
    "        self.a2=self.a-self.a1\n",
    "        \n",
    "    def setobserver(self,d,i,omega):\n",
    "        self.d=((d*u.lightyear).to(u.km)).value\n",
    "        self.i=np.deg2rad(i)\n",
    "        self.omega=np.deg2rad(omega)\n",
    "        self.a=((self.a*u.arcsecond).to(u.radian)).value * self.d\n",
    "        self.a1 =((self.a1*u.arcsecond).to(u.radian)).value * self.d\n",
    "        self.a2= ((self.a2*u.arcsecond).to(u.radian)).value * self.d  \n",
    "        \n",
    "    def totheta(self,time):\n",
    "        p=(((self.p)*u.second).to(u.year)).value\n",
    "        M = (2*np.pi/(p))*time\n",
    "        E = [[0.1 for i in range(len(time))]]\n",
    "        for _ in range(100):\n",
    "            E.append(M + (self.e)*np.sin(E[-1]))\n",
    "        E_final = E[-1]\n",
    "        num1 = np.sqrt((1+self.e)/(1-self.e))\n",
    "        num2 = np.tan(E_final/2)\n",
    "        return 2*np.arctan(num1*num2)\n",
    "    \n",
    "    def radial_velocity_primary(self,time):\n",
    "        theta=self.totheta(time)         \n",
    "        num1 = (2*np.pi*self.a1*np.sin(self.i))\n",
    "        denom1 = (self.p*np.sqrt(1 - (self.e)**2))\n",
    "        num2 = (self.e)*np.cos(self.omega) + np.cos(theta + self.omega)\n",
    "        return (num1 * num2 / denom1)\n",
    "    \n",
    "    def radial_velocity_secondary(self,time):\n",
    "        theta=self.totheta(time)         \n",
    "        num1 = (2*np.pi*self.a2*np.sin(self.i))\n",
    "        denom1 = (self.p*np.sqrt(1 - (self.e)**2))\n",
    "        num2 = (self.e)*np.cos(self.omega) + np.cos(theta + self.omega)\n",
    "        return -(num1 * num2 / denom1)\n",
    "   \n",
    "    def radial_velocity_primary(self,time):\n",
    "        theta=self.totheta(time)         \n",
    "        num1 = (2*np.pi*self.a1*np.sin(self.i))\n",
    "        denom1 = (self.p*np.sqrt(1 - (self.e)**2))\n",
    "        num2 = (self.e)*np.cos(self.omega) + np.cos(theta + self.omega)\n",
    "        return (num1 * num2 / denom1)\n",
    "    \n",
    "    def radial_velocity(self,time):\n",
    "        theta=self.totheta(time)         \n",
    "        num1 = (2*np.pi*self.a*np.sin(self.i))\n",
    "        denom1 = (self.p*np.sqrt(1 - (self.e)**2))\n",
    "        num2 = (self.e)*np.cos(self.omega) + np.cos(theta + self.omega)\n",
    "        return -(num1 * num2 / denom1)\n",
    "    \n",
    "    def r1(self,theta):\n",
    "        return ((self.a1)*(1-(self.e)**2))/(1+(self.e)*np.cos(theta))\n",
    "    \n",
    "    def r2(self,theta):\n",
    "        return ((self.a2)*(1-(self.e)**2))/(1+(self.e)*np.cos(theta))\n",
    "    \n"
   ]
  },
  {
   "cell_type": "code",
   "execution_count": 4,
   "id": "496e5e78",
   "metadata": {},
   "outputs": [],
   "source": [
    "e = 0.5179\n",
    "d = 4.37\n",
    "i = 79.205\n",
    "omega = 231.65\n",
    "a = 17.57\n",
    "p = 79.91\n",
    "m1=1.100\n",
    "m2=0.907"
   ]
  },
  {
   "cell_type": "code",
   "execution_count": 5,
   "id": "259a5252",
   "metadata": {},
   "outputs": [],
   "source": [
    "alpha_c=star(a,e,p,m1,m2)"
   ]
  },
  {
   "cell_type": "code",
   "execution_count": 6,
   "id": "e287124d",
   "metadata": {},
   "outputs": [],
   "source": [
    "alpha_c.setobserver(d,i,omega)"
   ]
  },
  {
   "cell_type": "code",
   "execution_count": 7,
   "id": "2302c0a9",
   "metadata": {},
   "outputs": [],
   "source": [
    "time=np.linspace(0,2*p,100)\n",
    "rv1=alpha_c.radial_velocity_primary(time)\n",
    "rv2=alpha_c.radial_velocity_secondary(time)\n",
    "rv=alpha_c.radial_velocity(time)"
   ]
  },
  {
   "cell_type": "code",
   "execution_count": 8,
   "id": "abd347fa",
   "metadata": {},
   "outputs": [
    {
     "data": {
      "image/png": "[encoded data removed]",
      "text/plain": [
       "<Figure size 432x288 with 1 Axes>"
      ]
     },
     "metadata": {
      "needs_background": "light"
     },
     "output_type": "display_data"
    }
   ],
   "source": [
    "plt.plot(time,rv1,label='A')\n",
    "plt.plot(time,rv2,label='B')\n",
    "plt.xlabel(r\"Time (years)\")\n",
    "plt.ylabel(r\"Radial velocity ($Km s^{-1}$)\")\n",
    "plt.legend()\n",
    "plt.title(r\"Radial velocity curve of $\\alpha$ Centauri\")\n",
    "plt.show()\n"
   ]
  },
  {
   "cell_type": "code",
   "execution_count": 9,
   "id": "4f55585b",
   "metadata": {},
   "outputs": [],
   "source": [
    "thetas=np.linspace(0,2*np.pi,100)\n",
    "r1=alpha_c.r1(thetas)\n",
    "r2=alpha_c.r2(thetas)"
   ]
  },
  {
   "cell_type": "code",
   "execution_count": 26,
   "id": "cdcd751a",
   "metadata": {},
   "outputs": [
    {
     "data": {
      "text/plain": [
       "<Figure size 360x360 with 0 Axes>"
      ]
     },
     "metadata": {},
     "output_type": "display_data"
    }
   ],
   "source": [
    "fig=plt.figure(figsize=(5,5))"
   ]
  },
  {
   "cell_type": "code",
   "execution_count": 27,
   "id": "13ef680e",
   "metadata": {},
   "outputs": [],
   "source": [
    "ax=fig.add_subplot(1,1,1,projection='polar')"
   ]
  },
  {
   "cell_type": "code",
   "execution_count": 28,
   "id": "36caa15e",
   "metadata": {},
   "outputs": [
    {
     "name": "stderr",
     "output_type": "stream",
     "text": [
      "<ipython-input-28-a106f810b5b3>:5: UserWarning: Matplotlib is currently using module://ipykernel.pylab.backend_inline, which is a non-GUI backend, so cannot show the figure.\n",
      "  fig.show()\n"
     ]
    }
   ],
   "source": [
    "ax.plot(thetas,r1,label=\"A\")\n",
    "ax.plot(thetas+np.pi,r2,label=\"B\")\n",
    "ax.legend(loc=8)\n",
    "fig.suptitle(r'Orbit of $\\alpha$ Centauri A and $\\alpha$ Centauri B')\n",
    "fig.show()"
   ]
  },
  {
   "cell_type": "code",
   "execution_count": 29,
   "id": "811f3126",
   "metadata": {},
   "outputs": [],
   "source": [
    "fig.savefig('hey.png')"
   ]
  },
  {
   "cell_type": "code",
   "execution_count": null,
   "id": "fb33db73",
   "metadata": {},
   "outputs": [],
   "source": []
  },
  {
   "cell_type": "code",
   "execution_count": null,
   "id": "a9ee0226",
   "metadata": {},
   "outputs": [],
   "source": []
  },
  {
   "cell_type": "code",
   "execution_count": null,
   "id": "4781b4aa",
   "metadata": {},
   "outputs": [],
   "source": []
  },
  {
   "cell_type": "code",
   "execution_count": null,
   "id": "1f13a573",
   "metadata": {},
   "outputs": [],
   "source": []
  },
  {
   "cell_type": "code",
   "execution_count": null,
   "id": "b527f34e",
   "metadata": {},
   "outputs": [],
   "source": []
  }
 ],
 "metadata": {
  "kernelspec": {
   "display_name": "Python 3",
   "language": "python",
   "name": "python3"
  },
  "language_info": {
   "codemirror_mode": {
    "name": "ipython",
    "version": 3
   },
   "file_extension": ".py",
   "mimetype": "text/x-python",
   "name": "python",
   "nbconvert_exporter": "python",
   "pygments_lexer": "ipython3",
   "version": "3.8.8"
  }
 },
 "nbformat": 4,
 "nbformat_minor": 5
}
